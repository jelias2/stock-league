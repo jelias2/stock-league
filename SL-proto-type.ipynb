{
 "cells": [
  {
   "cell_type": "code",
   "execution_count": 21,
   "metadata": {},
   "outputs": [],
   "source": [
    "import yfinance as yf\n",
    "import pandas \n",
    "from datetime import datetime\n",
    "from iexfinance.stocks import Stock\n"
   ]
  },
  {
   "cell_type": "code",
   "execution_count": 22,
   "metadata": {},
   "outputs": [
    {
     "name": "stdout",
     "output_type": "stream",
     "text": [
      "Price of ticker AAPL : 134.3000030517578\n"
     ]
    }
   ],
   "source": [
    "# Get the stock price of a validated ticker\n",
    "def Get_stock_price(ticker):\n",
    "    ticker_obj = yf.Ticker(ticker)\n",
    "    # print(msft)\n",
    "    df = ticker_obj.history(period=\"1d\",interval=\"15m\")\n",
    "    return df['Open'][-1]\n",
    "t = \"AAPL\"\n",
    "print('Price of ticker {0} : {1}'.format(t, get_stock_price(t)) )"
   ]
  },
  {
   "cell_type": "code",
   "execution_count": 26,
   "metadata": {
    "scrolled": true
   },
   "outputs": [],
   "source": [
    "class Stock:\n",
    "    ## Common base class for all stocks\n",
    "    __trade_opened = False\n",
    "    __trade_closed = False\n",
    "    open_price = 0\n",
    "    closed_price = 0\n",
    "    ticker = \"\"\n",
    "    \n",
    "    def __init__(self, ticker):\n",
    "        self.ticker = ticker\n",
    "\n",
    "    def get_price(self):\n",
    "        Get_stock_price(self.ticker)\n",
    "\n",
    "    def get_ticker_name(self):\n",
    "        return self.ticker\n",
    "    \n",
    "    def open_trade(self):\n",
    "        if self.__trade_opened == True:\n",
    "            print(\"Error: (__trade_opened == True) Trade is already open\")\n",
    "            return 1\n",
    "        if self.__trade_closed == True:\n",
    "            print(\"Error: (__trade_closed == True) Trade is already closed\")\n",
    "            return 1\n",
    "        self.__trade_opened = True\n",
    "        open_price = self.get_price(self)\n",
    "        return 0\n",
    "        \n",
    "    def close_trade(self):\n",
    "        if self.__trade_opened == False:\n",
    "            print(\"Error: (__trade_opened == False) Trade cannot be closed before it is opened\")\n",
    "            return 1\n",
    "        self.__trade_closed = True\n",
    "        open_price = self.get_price(self)"
   ]
  },
  {
   "cell_type": "code",
   "execution_count": 20,
   "metadata": {},
   "outputs": [
    {
     "name": "stdout",
     "output_type": "stream",
     "text": [
      "Price of ticker AAPL : 134.46499633789062\n"
     ]
    }
   ],
   "source": []
  },
  {
   "cell_type": "code",
   "execution_count": 16,
   "metadata": {},
   "outputs": [
    {
     "name": "stdout",
     "output_type": "stream",
     "text": [
      "134.52000427246094\n"
     ]
    }
   ],
   "source": []
  },
  {
   "cell_type": "code",
   "execution_count": null,
   "metadata": {},
   "outputs": [],
   "source": []
  },
  {
   "cell_type": "code",
   "execution_count": null,
   "metadata": {},
   "outputs": [],
   "source": []
  }
 ],
 "metadata": {
  "kernelspec": {
   "display_name": "Python 3",
   "language": "python",
   "name": "python3"
  },
  "language_info": {
   "codemirror_mode": {
    "name": "ipython",
    "version": 3
   },
   "file_extension": ".py",
   "mimetype": "text/x-python",
   "name": "python",
   "nbconvert_exporter": "python",
   "pygments_lexer": "ipython3",
   "version": "3.7.9"
  }
 },
 "nbformat": 4,
 "nbformat_minor": 4
}
