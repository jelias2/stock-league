{
 "cells": [
  {
   "cell_type": "code",
   "execution_count": 1,
   "metadata": {},
   "outputs": [],
   "source": [
    "import yfinance as yf\n",
    "import pandas \n",
    "from datetime import datetime\n",
    "from iexfinance.stocks import Stock"
   ]
  },
  {
   "cell_type": "code",
   "execution_count": 2,
   "metadata": {},
   "outputs": [
    {
     "name": "stdout",
     "output_type": "stream",
     "text": [
      "Price of ticker MSFT : 226.94\n",
      "Percentage Change MSFT over 15m : %-0.48\n"
     ]
    }
   ],
   "source": [
    "# Get the stock price of a validated ticker\n",
    "def get_stock_price(ticker):\n",
    "    ticker_obj = yf.Ticker(ticker)\n",
    "    # print(msft)\n",
    "    df = ticker_obj.history(period=\"1d\",interval=\"15m\")\n",
    "    return round(df['Open'][-1],2)\n",
    "\n",
    "\n",
    "# Valid intervals: [1m, 2m, 5m, 15m, 30m, 60m, 90m, 1h, 1d, 5d, 1wk, 1mo, 3mo] \n",
    "def get_percentage_change(ticker, time_length):\n",
    "    ticker_obj = yf.Ticker(ticker)\n",
    "    df = ticker_obj.history(period=time_length,interval=time_length)\n",
    "#     print(df)\n",
    "    old_price = df['Open'][0]\n",
    "    new_price = df['Close'][-1]\n",
    "#     print('Open: {0}, Close: {1}'.format(old_price, new_price))\n",
    "    percentage_change = (( new_price - old_price) / old_price) * 100  \n",
    "    return round(percentage_change,2)\n",
    "\n",
    "t = \"MSFT\"\n",
    "period = \"15m\"\n",
    "print('Price of ticker {0} : {1}'.format(t, get_stock_price(t)) )\n",
    "print('Percentage Change {0} over {1} : %{2}'.format(t,period, get_percentage_change(t,period)) )"
   ]
  },
  {
   "cell_type": "code",
   "execution_count": 3,
   "metadata": {
    "scrolled": true
   },
   "outputs": [
    {
     "name": "stdout",
     "output_type": "stream",
     "text": [
      "Apple ticker:  AAPL\n",
      "Apple Stock Price:  139.84\n",
      "Apple 1 month change: % 4.16\n"
     ]
    }
   ],
   "source": [
    "class Stock(object):\n",
    "    ## Common base class for all stocks\n",
    "    ticker = \"\"\n",
    "\n",
    "    def __init__(self, ticker):\n",
    "        self.ticker = ticker\n",
    "        self.price = 0\n",
    "\n",
    "    def get_price(self):\n",
    "        self.price = get_stock_price(self.ticker)\n",
    "        return self.price\n",
    "\n",
    "    def get_ticker_name(self):\n",
    "        return self.ticker\n",
    "    \n",
    "    def percent_change(self, period):\n",
    "        return get_percentage_change(self.ticker,period)\n",
    "    \n",
    "aapl = Stock(\"AAPL\")\n",
    "price = aapl.get_price()\n",
    "print(\"Apple ticker: \", aapl.get_ticker_name())\n",
    "print(\"Apple Stock Price: \", price)\n",
    "print(\"Apple 1 month change: %\", aapl.percent_change(\"1mo\"))"
   ]
  },
  {
   "cell_type": "code",
   "execution_count": 5,
   "metadata": {},
   "outputs": [
    {
     "name": "stdout",
     "output_type": "stream",
     "text": [
      "Current Price of AMZN: 3302.01 \n",
      "P1 Open trade: Price Opened: 3302.01, Position Opened True\n"
     ]
    }
   ],
   "source": [
    "class Position(object):\n",
    "    trade_opened = False\n",
    "    trade_closed = False\n",
    "    open_price = 0\n",
    "    closed_price = 0\n",
    "    \n",
    "    \n",
    "    def __init__(self, stock):\n",
    "        self.stock = stock\n",
    "\n",
    "    def open_trade(self):\n",
    "        if self.trade_opened == True:\n",
    "            print(\"Error: (__trade_opened == True) Trade is already open\")\n",
    "            return 1\n",
    "        if self.trade_closed == True:\n",
    "            print(\"Error: (__trade_closed == True) Trade is already closed\")\n",
    "            return 1\n",
    "        self.trade_opened = True\n",
    "        self.open_price = self.stock.get_price()\n",
    "\n",
    "        \n",
    "    def close_trade(self):\n",
    "        if self.trade_opened == False:\n",
    "            print(\"Error: (__trade_opened == False) Trade cannot be closed before it is opened\")\n",
    "            return 1\n",
    "        if self.trade_closed == True:\n",
    "            print(\"Error: (__trade_closed == True) Trade is already closed\")\n",
    "            return 1\n",
    "        self.trade_closed = True\n",
    "        self.closed_price = self.stock.get_price()\n",
    "    \n",
    "    \n",
    "    def pnl(self):\n",
    "        if self.open_price == 0 and self.trade_opened == False:\n",
    "            return 0\n",
    "        \n",
    "        if self.closed_price == 0 and self.trade_closed == False:\n",
    "            new_price = self.stock.get_price()\n",
    "        else:\n",
    "            new_price = self.closed_price\n",
    "             \n",
    "  \n",
    "    #     print('Open: {0}, Close: {1}'.format(old_price, new_price))\n",
    "        percentage_change = (( new_price - self.open_price) / self.open_price) * 100  \n",
    "        return round(percentage_change,2)\n",
    "\n",
    "amzn = Stock(\"AMZN\")\n",
    "p1 = Position(amzn)\n",
    "p1.open_trade()\n",
    "print(\"Current Price of {0}: {1} \".format(amzn.get_ticker_name(), amzn.get_price()))\n",
    "print(\"P1 Open trade: Price Opened: {0}, Position Opened {1}\".format(p1.open_price, p1.trade_opened))\n"
   ]
  },
  {
   "cell_type": "code",
   "execution_count": null,
   "metadata": {},
   "outputs": [],
   "source": []
  },
  {
   "cell_type": "code",
   "execution_count": null,
   "metadata": {},
   "outputs": [],
   "source": []
  },
  {
   "cell_type": "code",
   "execution_count": null,
   "metadata": {},
   "outputs": [],
   "source": []
  }
 ],
 "metadata": {
  "kernelspec": {
   "display_name": "Python 3",
   "language": "python",
   "name": "python3"
  },
  "language_info": {
   "codemirror_mode": {
    "name": "ipython",
    "version": 3
   },
   "file_extension": ".py",
   "mimetype": "text/x-python",
   "name": "python",
   "nbconvert_exporter": "python",
   "pygments_lexer": "ipython3",
   "version": "3.7.9"
  }
 },
 "nbformat": 4,
 "nbformat_minor": 4
}
